{
 "cells": [
  {
   "cell_type": "markdown",
   "id": "6310b293",
   "metadata": {},
   "source": [
    "# Write a Python function to sum all the numbers in a list."
   ]
  },
  {
   "cell_type": "code",
   "execution_count": 20,
   "id": "d0efd356",
   "metadata": {},
   "outputs": [
    {
     "name": "stdout",
     "output_type": "stream",
     "text": [
      "Enter a list: [8,2,3,0,7]\n",
      "Sum of the list: 20\n"
     ]
    }
   ],
   "source": [
    "from ast import literal_eval\n",
    "\n",
    "def sum_list(num_list):\n",
    "    add = 0\n",
    "    for num in num_list:\n",
    "        add = add + num\n",
    "    return add\n",
    "\n",
    "a = literal_eval(input('Enter a list: '))\n",
    "result = sum_list(a)\n",
    "print('Sum of the list:', result)"
   ]
  }
 ],
 "metadata": {
  "kernelspec": {
   "display_name": "Python 3 (ipykernel)",
   "language": "python",
   "name": "python3"
  },
  "language_info": {
   "codemirror_mode": {
    "name": "ipython",
    "version": 3
   },
   "file_extension": ".py",
   "mimetype": "text/x-python",
   "name": "python",
   "nbconvert_exporter": "python",
   "pygments_lexer": "ipython3",
   "version": "3.9.12"
  }
 },
 "nbformat": 4,
 "nbformat_minor": 5
}
